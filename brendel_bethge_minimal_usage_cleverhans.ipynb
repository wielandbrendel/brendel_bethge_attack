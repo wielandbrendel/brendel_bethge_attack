{
 "cells": [
  {
   "cell_type": "code",
   "execution_count": null,
   "metadata": {},
   "outputs": [],
   "source": [
    "# General setup for all examples\n",
    "import foolbox.ext.native as fbn\n",
    "import torchvision.models as models\n",
    "import torch\n",
    "import numpy as np\n",
    "\n",
    "# instantiate a model\n",
    "model = models.resnet18(pretrained=True).eval()\n",
    "preprocessing = dict(mean=[0.485, 0.456, 0.406], std=[0.229, 0.224, 0.225], axis=-3)\n",
    "fmodel = fbn.models.PyTorchModel(model, bounds=(0, 1), preprocessing=preprocessing)\n",
    "\n",
    "# get data and test the model\n",
    "images, labels = fbn.utils.samples(fmodel, dataset='imagenet', batchsize=4)\n",
    "print(fbn.utils.accuracy(fmodel, images, labels))\n",
    "# -> 1.0\n",
    "\n",
    "# for the rest of the tutorial, images are assumed to be properly normalised\n",
    "mean = torch.from_numpy(np.array(preprocessing['mean'], dtype=np.float32))\n",
    "std = torch.from_numpy(np.array(preprocessing['std'], dtype=np.float32))\n",
    "\n",
    "mean = mean[None, :, None, None].to(images.device)\n",
    "std = std[None, :, None, None].to(images.device)\n",
    "\n",
    "images = (images - mean) / std"
   ]
  },
  {
   "cell_type": "markdown",
   "metadata": {},
   "source": [
    "### Minimum example to use Brendel & Bethge attack"
   ]
  },
  {
   "cell_type": "code",
   "execution_count": null,
   "metadata": {},
   "outputs": [],
   "source": [
    "# convert Foolbox attack to CleverHans attack\n",
    "from cleverfool import convert_foolbox_attack\n",
    "linf_brendel_bethge = convert_foolbox_attack(fbn.attacks.LinfinityBrendelBethgeAttack)\n",
    "\n",
    "# run attack\n",
    "x_fool = linf_brendel_bethge(model, images, labels=labels, clip_min=-10, clip_max=10)\n",
    "y_pred_fool = model(x_fool).argmax(1)\n",
    "print(float((y_pred_fool == labels).float().mean()))"
   ]
  },
  {
   "cell_type": "markdown",
   "metadata": {},
   "source": [
    "### Using Brendel & Bethge with starting points selected from data set (to ensure valid starting points)"
   ]
  },
  {
   "cell_type": "code",
   "execution_count": null,
   "metadata": {},
   "outputs": [],
   "source": [
    "# get all data\n",
    "images, labels = fbn.utils.samples(fmodel, dataset='imagenet', batchsize=20)\n",
    "\n",
    "# split images and labels into 'batches' (just to mirror the batches of standard large-scale datasets)\n",
    "batches = [(images[:10], labels[:10]), (images[10:], labels[10:])]\n",
    "\n",
    "# create attack that picks adversarials from given dataset of samples\n",
    "from cleverfool import convert_cleverhans_model\n",
    "fmodel = convert_cleverhans_model(model, images, clip_min=-10, clip_max=10)\n",
    "init_attack = fbn.attacks.DatasetAttack(fmodel)\n",
    "\n",
    "init_attack.feed(batches[0][0])   # feed 1st batch of inputs\n",
    "init_attack.feed(batches[1][0])   # feed 2nd batch of inputs\n",
    "\n",
    "# apply the Brendel & Bethge attack\n",
    "x_fool = linf_brendel_bethge(model, images, labels=labels, clip_min=-10, clip_max=10, init_attack=init_attack)\n",
    "y_pred_fool = model(x_fool).argmax(1)\n",
    "print(float((y_pred_fool == labels).float().mean()))\n",
    "# -> 0.0"
   ]
  }
 ],
 "metadata": {
  "kernelspec": {
   "display_name": "Python 3",
   "language": "python",
   "name": "python3"
  },
  "language_info": {
   "codemirror_mode": {
    "name": "ipython",
    "version": 3
   },
   "file_extension": ".py",
   "mimetype": "text/x-python",
   "name": "python",
   "nbconvert_exporter": "python",
   "pygments_lexer": "ipython3",
   "version": "3.6.3"
  }
 },
 "nbformat": 4,
 "nbformat_minor": 2
}
