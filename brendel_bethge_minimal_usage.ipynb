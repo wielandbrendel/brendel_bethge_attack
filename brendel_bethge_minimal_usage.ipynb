{
 "cells": [
  {
   "cell_type": "code",
   "execution_count": null,
   "metadata": {},
   "outputs": [],
   "source": [
    "# General setup for all examples\n",
    "import foolbox as fb\n",
    "import torchvision.models as models\n",
    "\n",
    "# instantiate a model\n",
    "model = models.resnet18(pretrained=True).eval()\n",
    "preprocessing = dict(mean=[0.485, 0.456, 0.406], std=[0.229, 0.224, 0.225], axis=-3)\n",
    "fmodel = fb.models.PyTorchModel(model, bounds=(0, 1), preprocessing=preprocessing)\n",
    "\n",
    "# get data and test the model\n",
    "images, labels = fb.utils.samples(fmodel, dataset='imagenet', batchsize=4)\n",
    "print(fb.utils.accuracy(fmodel, images, labels))\n",
    "# -> 1.0"
   ]
  },
  {
   "cell_type": "markdown",
   "metadata": {},
   "source": [
    "### Minimum example to use Brendel & Bethge attack"
   ]
  },
  {
   "cell_type": "code",
   "execution_count": null,
   "metadata": {
    "ExecuteTime": {
     "end_time": "2020-01-03T08:20:00.551866Z",
     "start_time": "2020-01-03T08:19:54.831505Z"
    }
   },
   "outputs": [],
   "source": [
    "# apply the Brendel & Bethge attack\n",
    "attack = fb.attacks.L2BrendelBethgeAttack(lr=1, steps=100)\n",
    "adversarials, _, adv_mask = attack(\n",
    "    fmodel,\n",
    "    images,\n",
    "    criterion=fb.criteria.Misclassification(labels),\n",
    "    epsilons=1\n",
    ")\n",
    "print(fb.utils.accuracy(fmodel, adversarials, labels))\n",
    "# -> 0.0"
   ]
  },
  {
   "cell_type": "markdown",
   "metadata": {},
   "source": [
    "### Using Brendel & Bethge with starting points selected from data set (to ensure valid starting points)"
   ]
  },
  {
   "cell_type": "code",
   "execution_count": null,
   "metadata": {},
   "outputs": [],
   "source": [
    "# get all data\n",
    "images, labels = fb.utils.samples(fmodel, dataset='imagenet', batchsize=20)\n",
    "\n",
    "# split images and labels into 'batches' (just to mirror the batches of standard large-scale datasets)\n",
    "batches = [(images[:10], labels[:10]), (images[10:], labels[10:])]\n",
    "\n",
    "# create attack that picks adversarials from given dataset of samples\n",
    "init_attack = fb.attacks.DatasetAttack()\n",
    "\n",
    "init_attack.feed(fmodel, batches[0][0])   # feed 1st batch of inputs\n",
    "init_attack.feed(fmodel, batches[1][0])   # feed 2nd batch of inputs\n",
    "\n",
    "# apply the Brendel & Bethge attack\n",
    "attack = fb.attacks.L2BrendelBethgeAttack(init_attack=init_attack, steps=100)\n",
    "adversarials, _, adv_mask = attack(\n",
    "    fmodel,\n",
    "    images,\n",
    "    criterion=fb.criteria.Misclassification(labels),\n",
    "    epsilons=1\n",
    ")\n",
    "print(fb.utils.accuracy(fmodel, adversarials, labels))\n",
    "# -> 0.0"
   ]
  },
  {
   "cell_type": "code",
   "execution_count": null,
   "metadata": {},
   "outputs": [],
   "source": []
  }
 ],
 "metadata": {
  "kernelspec": {
   "display_name": "Python 3",
   "language": "python",
   "name": "python3"
  },
  "language_info": {
   "codemirror_mode": {
    "name": "ipython",
    "version": 3
   },
   "file_extension": ".py",
   "mimetype": "text/x-python",
   "name": "python",
   "nbconvert_exporter": "python",
   "pygments_lexer": "ipython3",
   "version": "3.7.2"
  }
 },
 "nbformat": 4,
 "nbformat_minor": 2
}
